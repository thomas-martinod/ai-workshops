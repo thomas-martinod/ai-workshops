{
 "cells": [
  {
   "cell_type": "markdown",
   "metadata": {
    "id": "GTp5HHtW98dK"
   },
   "source": [
    "## From-Scratch “MiniTorch” — Notebook Overview\n",
    "\n",
    "In this notebook we will **implement a minimal deep-learning framework from scratch** (“miniTorch”) and use it to train a simple neural network on the **MNIST** dataset as a toy problem.\n",
    "\n",
    "### Objectives\n",
    "- **Layers:** Implement core layers (e.g., `Linear`, `Dropout`, `BatchNorm1D`) with clean APIs (Application Programming Interface).\n",
    "- **Forward & Backward:** Write explicit **forward** and **backward** passes for every layer (no autograd).\n",
    "- **Losses:** Implement a **cross-entropy from logits** loss.\n",
    "- **Training Loop:** Build an epoch-based loop with **train/validation** splits and metrics.\n",
    "- **Optimization:** Perform **manual SGD** parameter updates (learning rate, gradient averaging, etc.).\n",
    "\n",
    "### Scope & Assumptions\n",
    "- We will **not** use PyTorch autograd; gradients are computed **manually**.\n",
    "- Tensors are used only as numerical containers and for basic ops (matmul, sum, etc.).\n",
    "- We adopt PyTorch-style `net.train()` / `net.eval()` mode switches for realism.\n",
    "- The dataset is **MNIST** (28×28 grayscale digits, 10 classes), serving as a **toy setting** to validate our implementation.\n",
    "\n",
    "### What You’ll Get By the End\n",
    "- A working “miniTorch” stack: layers → forward/backward → training loop → optimizer.\n",
    "- Clear, student-friendly code that mirrors real libraries while remaining small and inspectable.\n",
    "\n"
   ]
  },
  {
   "cell_type": "markdown",
   "metadata": {
    "id": "VIe_sdxH-kZ-"
   },
   "source": [
    "## 1. Loading the MNIST Dataset\n",
    "\n",
    "We will use the **MNIST** dataset — a classic benchmark of **28×28 grayscale images** of handwritten digits (0–9).  \n",
    "It contains:\n",
    "- **60,000** training images\n",
    "- **10,000** test images\n",
    "\n",
    "### Steps:\n",
    "1. **Download & Transform**  \n",
    "   - Use `torchvision.datasets.MNIST` to automatically download the data.\n",
    "   - Convert images to tensors and normalize pixel values to the range \\([-1, 1]\\).\n",
    "\n",
    "2. **Split into Train & Validation**  \n",
    "   - The official training set (60,000 samples) will be split into:\n",
    "     - **Training set:** 80% of the data (48,000 images).\n",
    "     - **Validation set:** 20% of the data (12,000 images).\n",
    "   - The split allows us to monitor generalization during training.\n",
    "\n",
    "3. **Test Set**  \n",
    "   - The test set (10,000 images) is kept separate and **only used at the end** to report final performance.\n",
    "\n",
    "### Why Split into Validation?\n",
    "The validation set helps track **overfitting**:  \n",
    "- If training accuracy keeps increasing but validation accuracy stalls or decreases, the model is memorizing instead of generalizing.\n",
    "\n",
    "### Summary\n",
    "- **Training set:** update model weights.\n",
    "- **Validation set:** tune hyperparameters & monitor generalization.\n",
    "- **Test set:** final unbiased evaluation.\n"
   ]
  },
  {
   "cell_type": "code",
   "execution_count": 3,
   "metadata": {
    "id": "09Qu96B35Wdu"
   },
   "outputs": [],
   "source": [
    "%matplotlib inline\n",
    "import matplotlib.pyplot as plt\n",
    "from matplotlib import gridspec\n",
    "from sklearn.datasets import make_classification\n",
    "import numpy as np\n",
    "# pick the seed for reproducibility - change it to explore the effects of random variations\n",
    "np.random.seed(0)\n",
    "import random\n",
    "from tqdm import tqdm\n",
    "from torch.utils.data import random_split"
   ]
  },
  {
   "cell_type": "code",
   "execution_count": 4,
   "metadata": {
    "id": "TlUCB_zK6Scx"
   },
   "outputs": [],
   "source": [
    "import torch\n",
    "import torchvision\n",
    "import torchvision.transforms as transforms"
   ]
  },
  {
   "cell_type": "code",
   "execution_count": 5,
   "metadata": {
    "id": "TIBpYf996Zit"
   },
   "outputs": [],
   "source": [
    "# Define transform\n",
    "transform = transforms.Compose([\n",
    "    transforms.ToTensor(),\n",
    "    transforms.Normalize((0.5,), (0.5,))\n",
    "])\n",
    "\n",
    "# Load full train dataset\n",
    "full_trainset = torchvision.datasets.MNIST(root='./data', train=True, download=True, transform=transform)\n",
    "\n",
    "# Split into train and validation\n",
    "train_size = int(0.8 * len(full_trainset))\n",
    "val_size = len(full_trainset) - train_size\n",
    "trainset, valset = random_split(full_trainset, [train_size, val_size])\n",
    "\n",
    "# DataLoaders\n",
    "trainloader = torch.utils.data.DataLoader(trainset, batch_size=64, shuffle=True)\n",
    "valloader = torch.utils.data.DataLoader(valset, batch_size=64, shuffle=False)\n",
    "\n",
    "# Test data\n",
    "testset = torchvision.datasets.MNIST(root='./data', train=False, download=True, transform=transform)\n",
    "testloader = torch.utils.data.DataLoader(testset, batch_size=64, shuffle=False)"
   ]
  },
  {
   "cell_type": "code",
   "execution_count": null,
   "metadata": {
    "colab": {
     "base_uri": "https://localhost:8080/"
    },
    "executionInfo": {
     "elapsed": 38,
     "status": "ok",
     "timestamp": 1755027165406,
     "user": {
      "displayName": "Juan David Martinez Vargas",
      "userId": "15315348669826032119"
     },
     "user_tz": 300
    },
    "id": "-t4LZI997v-6",
    "outputId": "e31049c8-5989-441d-f295-ba89a8ec92d1"
   },
   "outputs": [
    {
     "name": "stdout",
     "output_type": "stream",
     "text": [
      "torch.Size([64, 1, 28, 28]) torch.Size([64])\n"
     ]
    }
   ],
   "source": [
    "# Example: Iterate over a few batches\n",
    "for images, labels in trainloader:\n",
    "    print(images.shape, labels.shape)\n",
    "    break"
   ]
  },
  {
   "cell_type": "code",
   "execution_count": 7,
   "metadata": {
    "colab": {
     "base_uri": "https://localhost:8080/",
     "height": 829
    },
    "executionInfo": {
     "elapsed": 514,
     "status": "ok",
     "timestamp": 1755027168052,
     "user": {
      "displayName": "Juan David Martinez Vargas",
      "userId": "15315348669826032119"
     },
     "user_tz": 300
    },
    "id": "UqqrP50f75ns",
    "outputId": "5eed2234-9e7a-46b5-856a-9c0ef4537c04"
   },
   "outputs": [
    {
     "data": {
      "image/png": "[encoded data removed]",
      "text/plain": [
       "<Figure size 1000x1000 with 9 Axes>"
      ]
     },
     "metadata": {},
     "output_type": "display_data"
    }
   ],
   "source": [
    "# Check some examples\n",
    "for images, labels in trainloader:\n",
    "    # Denormalize the images for plotting\n",
    "    images = images * 0.5 + 0.5\n",
    "\n",
    "    # Plot the images\n",
    "    plt.figure(figsize=(10, 10))\n",
    "    for i in range(9):  # Plot 9 images\n",
    "        ax = plt.subplot(3, 3, i + 1)\n",
    "        plt.imshow(images[i][0], cmap='gray')  # images[i][0] for grayscale images\n",
    "        plt.title(f\"Label: {labels[i].item()}\")\n",
    "        plt.axis('off')\n",
    "    plt.show()\n",
    "    break\n"
   ]
  },
  {
   "cell_type": "markdown",
   "metadata": {
    "id": "DwO8LEOd_CM5"
   },
   "source": [
    "## 2. Implementing the Linear Layer\n",
    "\n",
    "The **Linear** (or fully connected / dense) layer is one of the fundamental building blocks of neural networks.  \n",
    "It performs a **linear transformation** of the input:\n",
    "\n",
    "$$\n",
    "Z = XW + b\n",
    "$$\n",
    "\n",
    "- **1. Forward pass:**  \n",
    "  Takes the input $X \\in \\mathbb{R}^{\\text{batch} \\times n_{\\text{in}}}$ and computes the weighted sum using the weight matrix $W \\in \\mathbb{R}^{n_{\\text{in}} \\times n_{\\text{out}}}$ and bias vector $b \\in \\mathbb{R}^{n_{\\text{out}}}$.\n",
    "\n",
    "  \n",
    "  La capa recibe un batch de entradas `X` y calcula:\n",
    "\n",
    "$$\n",
    "Z = XW + b\n",
    "$$\n",
    "\n",
    "  - `X`: matriz de entradas de tamaño `(batch, n_in)`\n",
    "  - `W`: matriz de pesos de tamaño `(n_in, n_out)`\n",
    "  - `b`: vector de bias de tamaño `(n_out,)`\n",
    "  - `Z`: salida de tamaño `(batch, n_out)`\n",
    "\n",
    "- **2 .Backward pass:**  \n",
    "  Computes the gradients of the loss with respect to $W$, $b$, and $X$ so we can update the parameters during training.\n",
    "\n",
    "  Denotemos por\n",
    "$$\n",
    "d Z := \\frac{\\partial L}{\\partial Z}\n",
    "$$\n",
    "el gradiente de la pérdida $L$ con respecto a la salida $Z$ (proviene de la capa siguiente). Queremos $\\frac{\\partial L}{\\partial W}, \\frac{\\partial L}{\\partial b}$ y $\\frac{\\partial L}{\\partial X}$.\n",
    "2.1 Gradiente respecto a $W$\n",
    "\n",
    "Elemento a elemento:\n",
    "$$\n",
    "\\frac{\\partial L}{\\partial W_{i j}}=\\sum_{k=1}^B \\frac{\\partial L}{\\partial Z_{k j}} \\frac{\\partial Z_{k j}}{\\partial W_{i j}}=\\sum_{k=1}^B d Z_{k j} X_{k i} .\n",
    "$$\n",
    "\n",
    "En forma matricial (más compacta y eficiente):\n",
    "$$\n",
    "\\frac{\\partial L}{\\partial W}=X^{\\top} d Z\n",
    "$$\n",
    "\n",
    "2.2 Gradiente respecto a $b$\n",
    "\n",
    "Elemento a elemento:\n",
    "$$\n",
    "\\frac{\\partial L}{\\partial b_j}=\\sum_{k=1}^B \\frac{\\partial L}{\\partial Z_{k j}} \\frac{\\partial Z_{k j}}{\\partial b_j}=\\sum_{k=1}^B d Z_{k j} .\n",
    "$$\n",
    "\n",
    "En forma vectorial:\n",
    "$$\n",
    "\\frac{\\partial L}{\\partial b}=\\sum_{k=1}^B d Z_{k,} \\quad \\text { (sumar sobre la dimensión batch). }\n",
    "$$\n",
    "\n",
    "2.3 Gradiente respecto a $X$ (propagar hacia atrás)\n",
    "\n",
    "Elemento a elemento (para propagar a capas previas):\n",
    "$$\n",
    "\\frac{\\partial L}{\\partial X_{k i}}=\\sum_{j=1}^{n_{\\text {out }}} \\frac{\\partial L}{\\partial Z_{k j}} \\frac{\\partial Z_{k j}}{\\partial X_{k i}}=\\sum_{j=1}^{n_{\\text {out }}} d Z_{k j} W_{i j} .\n",
    "$$\n",
    "\n",
    "En forma matricial:\n",
    "$$\n",
    "\\frac{\\partial L}{\\partial X}=d Z W^{\\top}\n",
    "$$\n",
    "\n",
    "- **3. Update step:**  \n",
    "  Applies a gradient descent step to $W$ and $b$ using the computed gradients and a learning rate.\n",
    "\n",
    "  Con la regla básica de descenso de gradiente (tasa de aprendizaje $\\eta$ ):\n",
    "$$\n",
    "W \\leftarrow W-\\eta \\frac{\\partial L}{\\partial W}, \\quad b \\leftarrow b-\\eta \\frac{\\partial L}{\\partial b} .\n",
    "$$\n",
    "\n",
    "Below is a template where you will fill in the missing pieces (`# TODO`) to implement forward, backward, and update logic."
   ]
  },
  {
   "cell_type": "code",
   "execution_count": null,
   "metadata": {
    "colab": {
     "base_uri": "https://localhost:8080/"
    },
    "executionInfo": {
     "elapsed": 55,
     "status": "ok",
     "timestamp": 1755028362796,
     "user": {
      "displayName": "Juan David Martinez Vargas",
      "userId": "15315348669826032119"
     },
     "user_tz": 300
    },
    "id": "A20c5lPy8dCQ",
    "outputId": "9bddd4f9-679c-483f-b526-14fa628a2035"
   },
   "outputs": [
    {
     "name": "stdout",
     "output_type": "stream",
     "text": [
      "torch.Size([1, 10])\n"
     ]
    }
   ],
   "source": [
    "class Linear:\n",
    "    \"\"\"\n",
    "    A simple fully connected (dense) layer.\n",
    "    Performs a linear transformation:  Z = XW + b\n",
    "    \"\"\"\n",
    "\n",
    "    def __init__(self, nin, nout, device=\"cpu\"):\n",
    "        \"\"\"\n",
    "        Initialize the layer parameters.\n",
    "        \"\"\"\n",
    "        # Initialize weights from a normal distribution\n",
    "        self.W = torch.randn(nin, nout, device=device, requires_grad=False)\n",
    "        # Initialize biases to zero\n",
    "        self.b = torch.zeros(nout, device=device, requires_grad=False)\n",
    "        self.training = True  # for compatibility with Dropout/BatchNorm\n",
    "\n",
    "    def train(self):\n",
    "        \"\"\"Switch to training mode.\"\"\"\n",
    "        self.training = True\n",
    "        return self\n",
    "\n",
    "    def eval(self):\n",
    "        \"\"\"Switch to evaluation mode.\"\"\"\n",
    "        self.training = False\n",
    "        return self\n",
    "\n",
    "    def forward(self, X):\n",
    "        \"\"\"\n",
    "        Forward pass: compute the output of the layer.\n",
    "        \"\"\"\n",
    "        self.X = X\n",
    "        Z = X @ self.W + self.b\n",
    "        return Z\n",
    "\n",
    "    def backward(self, dZ):\n",
    "        \"\"\"\n",
    "        Backward pass: compute gradients w.r.t. W, b, and X.\n",
    "        \"\"\"\n",
    "        # Gradients\n",
    "        dW = self.X.T @ dZ                   # shape (nin, nout)\n",
    "        db = torch.sum(dZ, dim=0)            # shape (nout,), check if torch.sum or np.sum\n",
    "        dX = dZ @ self.W.T                   # shape (batch, nin)\n",
    "\n",
    "        # Store for update step\n",
    "        self.dW = dW\n",
    "        self.db = db\n",
    "        return dX\n",
    "\n",
    "    def update(self, lr):\n",
    "        \"\"\"\n",
    "        Update parameters using gradient descent.\n",
    "        \"\"\"\n",
    "        self.W -= lr * self.dW\n",
    "        self.b -= lr * self.db\n",
    "\n",
    "# Example usage\n",
    "nin = 28*28\n",
    "nout = 10\n",
    "n_batch = 1\n",
    "device = 'cuda' if torch.cuda.is_available() else 'cpu'\n",
    "# Simulated input tensor\n",
    "X = torch.randn(n_batch, nin).to(device)\n",
    "\n",
    "# Create an instance of the Linear class and compute the linear transformation\n",
    "net = Linear(nin, nout, device=device)\n",
    "Z = net.forward(X)\n",
    "print(Z.shape)"
   ]
  },
  {
   "cell_type": "markdown",
   "metadata": {
    "id": "u651tX8vVVPp"
   },
   "source": [
    "## 3. CrossEntropyFromLogits Loss\n",
    "\n",
    "To train a neural network for **classification**, we need a loss function that measures how well the predicted class scores (logits) match the true labels.  \n",
    "A very common choice is the **Cross-Entropy Loss**, combined with the **Softmax** function.\n",
    "\n",
    "### Step 1: Softmax\n",
    "\n",
    "Given the logits for each sample:\n",
    "$$\n",
    "Z \\in \\mathbb{R}^{m \\times C}\n",
    "$$\n",
    "where $m$ is the batch size and $C$ is the number of classes,  \n",
    "the softmax function converts logits into probabilities:\n",
    "\n",
    "$$\n",
    "A_{i,j} = \\frac{\\exp(Z_{i,j})}{\\sum_{k=1}^{C} \\exp(Z_{i,k})}\n",
    "$$\n",
    "\n",
    "This ensures:\n",
    "- $A_{i,j} \\geq 0$ (all outputs are non-negative)\n",
    "- $\\sum_{j=1}^{C} A_{i,j} = 1$ (rows sum to 1, valid probability distribution).\n",
    "\n",
    "### Step 2: Cross-Entropy Loss\n",
    "\n",
    "If $Y_i$ is the true label for sample $i$ (an integer in $[0, C-1]$),  \n",
    "the cross-entropy loss for one sample is:\n",
    "\n",
    "$$\n",
    "\\ell_i = -\\log\\big( A_{i, Y_i} \\big)\n",
    "$$\n",
    "\n",
    "The loss over the batch is the average:\n",
    "\n",
    "$$\n",
    "\\mathcal{L} = \\frac{1}{m} \\sum_{i=1}^m \\ell_i\n",
    "= -\\frac{1}{m} \\sum_{i=1}^m \\log\\big( A_{i, Y_i} \\big)\n",
    "$$\n",
    "\n",
    "### Step 3: Gradient (Backward Pass)\n",
    "\n",
    "The derivative of the loss with respect to the logits is elegant:\n",
    "\n",
    "$$\n",
    "\\frac{\\partial \\mathcal{L}}{\\partial Z_{i,j}}\n",
    "= A_{i,j} - \\mathbf{1}[j = Y_i]\n",
    "$$\n",
    "\n",
    "That is:\n",
    "- For the correct class: $A_{i,Y_i} - 1$\n",
    "- For other classes: $A_{i,j}$\n",
    "\n",
    "This makes backpropagation very efficient.\n",
    "\n",
    "---\n",
    "\n",
    "### Summary\n",
    "\n",
    "- **Forward pass:** compute softmax + cross-entropy.  \n",
    "- **Backward pass:** subtract 1 from the probability of the true class.  \n",
    "\n",
    "This loss is standard for multi-class classification problems such as MNIST.\n",
    "\n",
    "---\n",
    "\n",
    "We can express this more compactly in **matrix form**.\n",
    "\n",
    "Let:\n",
    "- $ A \\in \\mathbb{R}^{m \\times C} $ be the matrix of softmax outputs,  \n",
    "- $ Y \\in \\mathbb{R}^{m \\times C} $ be the one-hot encoded true labels,  \n",
    "- $ m $ = batch size.  \n",
    "\n",
    "Then the gradient of the loss w.r.t. the logits $Z$ is:\n",
    "\n",
    "$$\n",
    "\\frac{\\partial \\mathcal{L}}{\\partial Z} = \\frac{1}{m}\\,(A - Y)\n",
    "$$\n",
    "\n",
    "---\n",
    "\n",
    "### Key Points:\n",
    "- The subtraction $$ A - Y $$ automatically applies the correct rule to all classes in all samples.\n",
    "- The factor $ \\tfrac{1}{m} $ appears if the loss is averaged across the batch (omit it if summing).\n",
    "- This compact vectorized form makes backpropagation efficient in practice."
   ]
  },
  {
   "cell_type": "code",
   "execution_count": 9,
   "metadata": {
    "colab": {
     "base_uri": "https://localhost:8080/"
    },
    "executionInfo": {
     "elapsed": 6,
     "status": "ok",
     "timestamp": 1755028466569,
     "user": {
      "displayName": "Juan David Martinez Vargas",
      "userId": "15315348669826032119"
     },
     "user_tz": 300
    },
    "id": "7ZYsEzaRBeKj",
    "outputId": "47620091-b361-4773-d075-f31634a9a434"
   },
   "outputs": [
    {
     "name": "stdout",
     "output_type": "stream",
     "text": [
      "tensor(88.8412, device='cuda:0')\n"
     ]
    }
   ],
   "source": [
    "class CrossEntropyFromLogits:\n",
    "    \"\"\"\n",
    "    Implements the combination of:\n",
    "    - Softmax activation (from raw logits)\n",
    "    - Cross-entropy loss\n",
    "\n",
    "    This is a common choice for multi-class classification.\n",
    "    \"\"\"\n",
    "\n",
    "    def forward(self, Z, Y):\n",
    "        \"\"\"\n",
    "        Forward pass: compute the cross-entropy loss from raw logits.\n",
    "\n",
    "        Args:\n",
    "            Z (torch.Tensor): Logits (unnormalized scores) of shape (batch_size, n_classes).\n",
    "            Y (torch.Tensor): True class indices of shape (batch_size,).\n",
    "\n",
    "        Returns:\n",
    "            loss torch.Tensor: Scalar value of the cross-entropy loss.\n",
    "        \"\"\"\n",
    "        self.Y = Y  # Store true labels for backward pass\n",
    "\n",
    "        # TODO: Compute softmax probabilities (convert logits to probabilities)\n",
    "        self.A = torch.softmax(Z, dim=1)\n",
    "\n",
    "        # TODO: Compute log-softmax (log probabilities)\n",
    "        log_softmax_Z = torch.log_softmax(Z, dim=1)\n",
    "\n",
    "        # TODO: Select the log-probabilities of the correct classes for each sample\n",
    "        log_probs = log_softmax_Z[torch.arange(Z.shape[0]), Y]\n",
    "\n",
    "        # TODO: Cross-entropy loss: average negative log-likelihood\n",
    "        loss = -log_probs.mean()\n",
    "        \n",
    "        return loss\n",
    "\n",
    "    def backward(self, n_classes):\n",
    "        \"\"\"\n",
    "        Backward pass: compute the gradient of the loss with respect to logits Z.\n",
    "\n",
    "        Args:\n",
    "            n_classes (int): Number of classes in the classification problem.\n",
    "\n",
    "        Returns:\n",
    "            torch.Tensor: Gradient dZ of shape (batch_size, n_classes).\n",
    "        \"\"\"\n",
    "\n",
    "        m = self.Y.shape[0]\n",
    "\n",
    "        # TODO: One-hot encode the true labels\n",
    "        Y_one_hot = torch.nn.functional.one_hot(self.Y, num_classes=n_classes).float()\n",
    "\n",
    "        # TODO: Derivative of cross-entropy w.r.t logits: softmax_output - one_hot_labels\n",
    "        dZ = (self.A - Y_one_hot) / m\n",
    "\n",
    "        return dZ\n",
    "\n",
    "# Example usage\n",
    "CELoss = CrossEntropyFromLogits()\n",
    "Y = torch.randint(0, 3, (n_batch,))\n",
    "loss = CELoss.forward(Z, Y)\n",
    "print(loss)"
   ]
  },
  {
   "cell_type": "markdown",
   "metadata": {
    "id": "I4lVIwb9YLCF"
   },
   "source": [
    "## 4. Training Loop — Forward, Backward, Manual Parameter Updates (No Optimizers Yet)\n",
    "\n",
    "In this section you’ll complete the **core learning cycle** using only the pieces we’ve built:\n",
    "1. **Forward pass:** compute logits \\(Z\\) from inputs \\(X\\).\n",
    "2. **Loss:** compute cross-entropy from logits and labels.\n",
    "3. **Backward (loss):** compute \\(dZ = \\partial \\mathcal{L} / \\partial Z\\) (vectorized).\n",
    "4. **Backward (network):** backpropagate \\(dZ\\) through layers to fill per-parameter grads.\n",
    "5. **Manual update:** call `net.update(learning_rate)` to apply **plain SGD** (stochastic gradient descend) updates.\n",
    "\n",
    "### TODOs (what you must fill in)\n",
    "- [ ] **Forward:** `Z = net.forward(X)`\n",
    "- [ ] **Loss:** `loss = CELoss.forward(Z, Y)`\n",
    "- [ ] **Backward (loss):** `dZ = CELoss.backward(n_classes)`  (matrix form \\(A - Y\\); include \\(1/m\\) if you average)\n",
    "- [ ] **Backward (network):** `net.backward(dZ)`\n",
    "- [ ] **Update:** `net.update(learning_rate)`  *(manual SGD; no optimizer classes yet)*\n",
    "- [ ] **Metrics:** accumulate running loss/accuracy for train and val\n",
    "\n",
    "**Tips**\n",
    "- Average your **layer gradients** by batch size in each layer (e.g., `dW /= m`) for LR stability.\n",
    "- Keep **validation/test** forward-only (no `backward`, no `update`).\n",
    "- If you want to tweak LR per epoch, just modify the variable `learning_rate` before the loop or inside it."
   ]
  },
  {
   "cell_type": "code",
   "execution_count": 10,
   "metadata": {
    "id": "TYINJm8iZakK"
   },
   "outputs": [
    {
     "name": "stderr",
     "output_type": "stream",
     "text": [
      "Epoch 1/10 [Train]:   1%|          | 5/750 [00:00<00:16, 44.31it/s]"
     ]
    },
    {
     "name": "stderr",
     "output_type": "stream",
     "text": [
      "Epoch 1/10 [Train]: 100%|██████████| 750/750 [00:10<00:00, 72.35it/s, acc=0.7029, loss=1.8203]\n",
      "Epoch 1/10 [Val]: 100%|██████████| 188/188 [00:02<00:00, 72.89it/s]\n"
     ]
    },
    {
     "name": "stdout",
     "output_type": "stream",
     "text": [
      "Epoch 1/10 | Train Loss: 3.5750 Acc: 0.7029 | Val Loss: 1.7159 Acc: 0.8139\n"
     ]
    },
    {
     "name": "stderr",
     "output_type": "stream",
     "text": [
      "Epoch 2/10 [Train]: 100%|██████████| 750/750 [00:10<00:00, 72.87it/s, acc=0.8344, loss=1.3871]\n",
      "Epoch 2/10 [Val]: 100%|██████████| 188/188 [00:02<00:00, 75.43it/s]\n"
     ]
    },
    {
     "name": "stdout",
     "output_type": "stream",
     "text": [
      "Epoch 2/10 | Train Loss: 1.4372 Acc: 0.8344 | Val Loss: 1.3733 Acc: 0.8390\n"
     ]
    },
    {
     "name": "stderr",
     "output_type": "stream",
     "text": [
      "Epoch 3/10 [Train]: 100%|██████████| 750/750 [00:10<00:00, 73.04it/s, acc=0.8563, loss=1.3526]\n",
      "Epoch 3/10 [Val]: 100%|██████████| 188/188 [00:02<00:00, 74.69it/s]\n"
     ]
    },
    {
     "name": "stdout",
     "output_type": "stream",
     "text": [
      "Epoch 3/10 | Train Loss: 1.1629 Acc: 0.8563 | Val Loss: 1.2337 Acc: 0.8428\n"
     ]
    },
    {
     "name": "stderr",
     "output_type": "stream",
     "text": [
      "Epoch 4/10 [Train]: 100%|██████████| 750/750 [00:10<00:00, 72.48it/s, acc=0.8652, loss=0.2719]\n",
      "Epoch 4/10 [Val]: 100%|██████████| 188/188 [00:02<00:00, 75.50it/s]\n"
     ]
    },
    {
     "name": "stdout",
     "output_type": "stream",
     "text": [
      "Epoch 4/10 | Train Loss: 1.0253 Acc: 0.8652 | Val Loss: 1.0709 Acc: 0.8601\n"
     ]
    },
    {
     "name": "stderr",
     "output_type": "stream",
     "text": [
      "Epoch 5/10 [Train]: 100%|██████████| 750/750 [00:10<00:00, 72.85it/s, acc=0.8717, loss=1.1170]\n",
      "Epoch 5/10 [Val]: 100%|██████████| 188/188 [00:02<00:00, 74.93it/s]\n"
     ]
    },
    {
     "name": "stdout",
     "output_type": "stream",
     "text": [
      "Epoch 5/10 | Train Loss: 0.9260 Acc: 0.8717 | Val Loss: 1.0065 Acc: 0.8624\n"
     ]
    },
    {
     "name": "stderr",
     "output_type": "stream",
     "text": [
      "Epoch 6/10 [Train]: 100%|██████████| 750/750 [00:10<00:00, 72.89it/s, acc=0.8770, loss=1.5086]\n",
      "Epoch 6/10 [Val]: 100%|██████████| 188/188 [00:02<00:00, 75.08it/s]\n"
     ]
    },
    {
     "name": "stdout",
     "output_type": "stream",
     "text": [
      "Epoch 6/10 | Train Loss: 0.8537 Acc: 0.8770 | Val Loss: 0.9037 Acc: 0.8734\n"
     ]
    },
    {
     "name": "stderr",
     "output_type": "stream",
     "text": [
      "Epoch 7/10 [Train]: 100%|██████████| 750/750 [00:10<00:00, 72.49it/s, acc=0.8794, loss=1.1916]\n",
      "Epoch 7/10 [Val]: 100%|██████████| 188/188 [00:02<00:00, 75.55it/s]\n"
     ]
    },
    {
     "name": "stdout",
     "output_type": "stream",
     "text": [
      "Epoch 7/10 | Train Loss: 0.7999 Acc: 0.8794 | Val Loss: 0.9185 Acc: 0.8654\n"
     ]
    },
    {
     "name": "stderr",
     "output_type": "stream",
     "text": [
      "Epoch 8/10 [Train]: 100%|██████████| 750/750 [00:10<00:00, 72.90it/s, acc=0.8816, loss=0.2997]\n",
      "Epoch 8/10 [Val]: 100%|██████████| 188/188 [00:02<00:00, 74.57it/s]\n"
     ]
    },
    {
     "name": "stdout",
     "output_type": "stream",
     "text": [
      "Epoch 8/10 | Train Loss: 0.7591 Acc: 0.8816 | Val Loss: 0.8247 Acc: 0.8745\n"
     ]
    },
    {
     "name": "stderr",
     "output_type": "stream",
     "text": [
      "Epoch 9/10 [Train]: 100%|██████████| 750/750 [00:10<00:00, 73.07it/s, acc=0.8832, loss=0.9662]\n",
      "Epoch 9/10 [Val]: 100%|██████████| 188/188 [00:02<00:00, 74.91it/s]\n"
     ]
    },
    {
     "name": "stdout",
     "output_type": "stream",
     "text": [
      "Epoch 9/10 | Train Loss: 0.7200 Acc: 0.8832 | Val Loss: 0.8050 Acc: 0.8762\n"
     ]
    },
    {
     "name": "stderr",
     "output_type": "stream",
     "text": [
      "Epoch 10/10 [Train]: 100%|██████████| 750/750 [00:10<00:00, 72.76it/s, acc=0.8867, loss=0.8889]\n",
      "Epoch 10/10 [Val]: 100%|██████████| 188/188 [00:02<00:00, 76.14it/s]\n"
     ]
    },
    {
     "name": "stdout",
     "output_type": "stream",
     "text": [
      "Epoch 10/10 | Train Loss: 0.6865 Acc: 0.8867 | Val Loss: 0.8106 Acc: 0.8773\n"
     ]
    },
    {
     "name": "stderr",
     "output_type": "stream",
     "text": [
      "[Test]: 100%|██████████| 157/157 [00:02<00:00, 75.09it/s]\n"
     ]
    },
    {
     "name": "stdout",
     "output_type": "stream",
     "text": [
      "[Test] Loss: 0.7748 | Acc: 0.8850\n"
     ]
    },
    {
     "data": {
      "image/png": "[encoded data removed]",
      "text/plain": [
       "<Figure size 640x480 with 1 Axes>"
      ]
     },
     "metadata": {},
     "output_type": "display_data"
    },
    {
     "data": {
      "image/png": "[encoded data removed]",
      "text/plain": [
       "<Figure size 640x480 with 1 Axes>"
      ]
     },
     "metadata": {},
     "output_type": "display_data"
    },
    {
     "data": {
      "image/png": "[encoded data removed]",
      "text/plain": [
       "<Figure size 640x480 with 1 Axes>"
      ]
     },
     "metadata": {},
     "output_type": "display_data"
    }
   ],
   "source": [
    "history = {\"train_loss\": [], \"train_acc\": [], \"val_loss\": [], \"val_acc\": []}\n",
    "batch_losses = []  # per-batch losses for the plot\n",
    "\n",
    "# params\n",
    "num_epochs = 10\n",
    "learning_rate = 0.1\n",
    "n_classes = 10  # en MNIST\n",
    "\n",
    "\n",
    "CELoss = CrossEntropyFromLogits()\n",
    "\n",
    "for epoch in range(1, num_epochs + 1):\n",
    "    # -------- TRAIN --------\n",
    "    if hasattr(net, \"train\"): net.train()\n",
    "    running_loss, tot_correct, tot_samples = 0.0, 0, 0\n",
    "    total_batches = len(trainloader)\n",
    "\n",
    "    pbar = tqdm(trainloader, desc=f\"Epoch {epoch}/{num_epochs} [Train]\")\n",
    "    for batch_idx, (images, labels) in enumerate(pbar, 1):\n",
    "        X = images.view(images.size(0), -1).to(device)   # flatten MNIST (batch, 784)\n",
    "        Y = labels.to(device)\n",
    "\n",
    "        # Forward\n",
    "        Z = net.forward(X)                  # logits\n",
    "        loss = CELoss.forward(Z, Y)         # scalar loss\n",
    "\n",
    "        # Backward + update\n",
    "        dZ = CELoss.backward(n_classes)              # ∂L/∂Z\n",
    "        _ = net.backward(dZ)                # backprop through net (∂L/∂W, ∂L/∂b)\n",
    "        net.update(learning_rate)           # manual SGD update\n",
    "\n",
    "        # Stats\n",
    "        running_loss += loss.item()\n",
    "        batch_losses.append(loss.detach().cpu().item())\n",
    "        _, predicted = torch.max(Z, 1)\n",
    "        tot_correct += (predicted == Y).sum().item()\n",
    "        tot_samples += Y.size(0)\n",
    "\n",
    "        if batch_idx % max(1, total_batches // 10) == 0:\n",
    "            pbar.set_postfix(loss=f\"{loss.item():.4f}\",\n",
    "                             acc=f\"{tot_correct / max(1, tot_samples):.4f}\")\n",
    "\n",
    "    train_loss = running_loss / len(trainloader)\n",
    "    train_acc = tot_correct / tot_samples\n",
    "\n",
    "    # -------- VALIDATION --------\n",
    "    if hasattr(net, \"eval\"): net.eval()\n",
    "    val_running_loss, val_correct, val_samples = 0.0, 0, 0\n",
    "    with torch.no_grad():\n",
    "        for images, labels in tqdm(valloader, desc=f\"Epoch {epoch}/{num_epochs} [Val]\"):\n",
    "            X = images.view(images.size(0), -1).to(device)\n",
    "            Y = labels.to(device)\n",
    "\n",
    "            Z = net.forward(X)\n",
    "            vloss = CELoss.forward(Z, Y)\n",
    "            val_running_loss += vloss.item()\n",
    "\n",
    "            _, predicted = torch.max(Z, 1)\n",
    "            val_correct += (predicted == Y).sum().item()\n",
    "            val_samples += Y.size(0)\n",
    "\n",
    "    val_loss = val_running_loss / len(valloader)\n",
    "    val_acc = val_correct / val_samples\n",
    "\n",
    "    history[\"train_loss\"].append(train_loss)\n",
    "    history[\"train_acc\"].append(train_acc)\n",
    "    history[\"val_loss\"].append(val_loss)\n",
    "    history[\"val_acc\"].append(val_acc)\n",
    "\n",
    "    print(f\"Epoch {epoch}/{num_epochs} | \"\n",
    "          f\"Train Loss: {train_loss:.4f} Acc: {train_acc:.4f} | \"\n",
    "          f\"Val Loss: {val_loss:.4f} Acc: {val_acc:.4f}\")\n",
    "\n",
    "# -------- OPTIONAL TEST --------\n",
    "if 'testloader' in globals() and testloader is not None:\n",
    "    if hasattr(net, \"eval\"): net.eval()\n",
    "    test_correct, test_samples, test_running_loss = 0, 0, 0.0\n",
    "    with torch.no_grad():\n",
    "        for images, labels in tqdm(testloader, desc=\"[Test]\"):\n",
    "            X = images.view(images.size(0), -1).to(device)\n",
    "            Y = labels.to(device)\n",
    "            Z = net.forward(X)\n",
    "            loss = CELoss.forward(Z, Y)\n",
    "            test_running_loss += loss.item()\n",
    "            _, pred = torch.max(Z, 1)\n",
    "            test_correct += (pred == Y).sum().item()\n",
    "            test_samples += Y.size(0)\n",
    "    test_loss = test_running_loss / len(testloader)\n",
    "    test_acc = test_correct / test_samples\n",
    "    print(f\"[Test] Loss: {test_loss:.4f} | Acc: {test_acc:.4f}\")\n",
    "\n",
    "# -------- PLOTS --------\n",
    "plt.figure(); plt.plot(np.array(batch_losses))\n",
    "plt.xlabel('Batch'); plt.ylabel('Loss'); plt.title('Training Loss (per batch)'); plt.show()\n",
    "\n",
    "plt.figure(); plt.plot(history[\"train_loss\"], label='Train'); plt.plot(history[\"val_loss\"], label='Val')\n",
    "plt.xlabel('Epoch'); plt.ylabel('Loss'); plt.legend(); plt.title('Loss per Epoch'); plt.show()\n",
    "\n",
    "plt.figure(); plt.plot(history[\"train_acc\"], label='Train'); plt.plot(history[\"val_acc\"], label='Val')\n",
    "plt.xlabel('Epoch'); plt.ylabel('Accuracy'); plt.legend(); plt.title('Accuracy per Epoch'); plt.show()\n"
   ]
  },
  {
   "cell_type": "markdown",
   "metadata": {
    "id": "sNZzsMcVd0Ro"
   },
   "source": [
    "## The `Net` Class: A Simple Sequential Container\n",
    "\n",
    "To organize our neural network, we define a `Net` class that acts as a **sequential container of layers**.  \n",
    "This class is inspired by frameworks like PyTorch, but implemented from scratch for educational purposes.\n",
    "\n",
    "### Key Responsibilities\n",
    "\n",
    "- **Layer Management:**  \n",
    "  We can add layers (e.g., `Linear`, `ReLU`, `Dropout`) using `add()`.  \n",
    "  Each layer must implement:\n",
    "  - `forward()` — computes the output given inputs.  \n",
    "  - `backward()` — computes the gradients of the loss w.r.t. its inputs.  \n",
    "  - `update(lr)` — updates the trainable parameters (if any).  \n",
    "\n",
    "- **Training/Evaluation Modes:**  \n",
    "  The class has `train()` and `eval()` methods.  \n",
    "  These switch the whole network into training or evaluation mode, propagating the setting to layers that support it (like `Dropout`, which behaves differently during training vs evaluation).\n",
    "\n",
    "- **Forward and Backward Passes:**  \n",
    "  - `forward(X)` runs the input through all layers in sequence.  \n",
    "  - `backward(dZ)` propagates gradients in reverse order, from the output back to the input.  \n",
    "\n",
    "- **Parameter Updates:**  \n",
    "  `update(lr)` applies gradient descent to all trainable layers, using the provided learning rate.  \n",
    "  (Later we could replace this with more advanced optimizers like Adam or RMSProp.)\n",
    "\n",
    "### Next Steps\n",
    "\n",
    "- **TODOs:**  \n",
    "  - Implement the details of each layer’s `forward()` and `backward()` functions.  \n",
    "  - Add parameter updates inside `update()` for layers that have weights.  \n",
    "  - Complete the training loop that uses this `Net` container to build and train a model on MNIST.  \n",
    "\n",
    "This design provides a clear and modular structure, making it easy to extend with new layers or optimizers."
   ]
  },
  {
   "cell_type": "code",
   "execution_count": 11,
   "metadata": {
    "id": "1imEUcxliTJK"
   },
   "outputs": [],
   "source": [
    "class Net:\n",
    "    \"\"\"\n",
    "    A simple sequential container for custom layers.\n",
    "    Provides PyTorch-like train()/eval() switches and\n",
    "    runs forward/backward/update across all layers.\n",
    "    \"\"\"\n",
    "\n",
    "    def __init__(self):\n",
    "        \"\"\"\n",
    "        Start with an empty list of layers and set the network\n",
    "        to training mode by default.\n",
    "        \"\"\"\n",
    "        self.layers = []\n",
    "        self.training = True  # True = training mode, False = eval mode\n",
    "\n",
    "    def add(self, layer):\n",
    "        \"\"\"\n",
    "        Add a layer to the network.\n",
    "\n",
    "        Args:\n",
    "            layer: Any object that implements forward(), backward(), update(),\n",
    "                   and (optionally) train()/eval() for mode control.\n",
    "        \"\"\"\n",
    "        self.layers.append(layer)\n",
    "\n",
    "    # ---- Mode control ----\n",
    "    def train(self):\n",
    "        \"\"\"Switch the whole network to training mode.\"\"\"\n",
    "        self.training = True\n",
    "        for layer in self.layers:\n",
    "            if hasattr(layer, \"train\"):\n",
    "                layer.train()\n",
    "        return self\n",
    "\n",
    "    def eval(self):\n",
    "        \"\"\"Switch the whole network to evaluation mode.\"\"\"\n",
    "        self.training = False\n",
    "        for layer in self.layers:\n",
    "            if hasattr(layer, \"eval\"):\n",
    "                layer.eval()\n",
    "        return self\n",
    "\n",
    "    # ---- Core passes ----\n",
    "    def forward(self, X):\n",
    "        \"\"\"\n",
    "        Forward pass through all layers.\n",
    "\n",
    "        Args:\n",
    "            X (torch.Tensor): Input to the network.\n",
    "\n",
    "        Returns:\n",
    "            torch.Tensor: Output after the last layer.\n",
    "        \"\"\"\n",
    "        for layer in self.layers:\n",
    "            X = layer.forward(X)  # 🔑 output de la capa se pasa como input a la siguiente\n",
    "        return X\n",
    "\n",
    "    def backward(self, dZ):\n",
    "        \"\"\"\n",
    "        Backward pass through all layers in reverse order.\n",
    "\n",
    "        Args:\n",
    "            dZ (torch.Tensor): Gradient of the loss w.r.t. network output.\n",
    "\n",
    "        Returns:\n",
    "            torch.Tensor: Gradient of the loss w.r.t. the network input.\n",
    "        \"\"\"\n",
    "        for layer in reversed(self.layers):\n",
    "            dZ = layer.backward(dZ)  # 🔑 cada capa propaga gradiente hacia atrás\n",
    "        return dZ\n",
    "\n",
    "    def update(self, lr):\n",
    "        \"\"\"\n",
    "        Update parameters of all trainable layers with the given learning rate.\n",
    "\n",
    "        Args:\n",
    "            lr (float): Learning rate.\n",
    "        \"\"\"\n",
    "        for layer in self.layers:\n",
    "            if hasattr(layer, \"update\"):\n",
    "                layer.update(lr)  # 🔑 si la capa tiene parámetros, los actualiza\n"
   ]
  },
  {
   "cell_type": "markdown",
   "metadata": {
    "id": "1_jy5PSCm4on"
   },
   "source": [
    "### Testing the Implementation\n",
    "\n",
    "The following cells are intended as a **first test** of the network implementation.  \n",
    "We build a simple architecture with two linear layers and train it using our custom  \n",
    "cross-entropy loss. Since we have not yet introduced any **non-linear activation functions**,  \n",
    "this setup is equivalent to a **softmax regression model** (a linear classifier).  \n",
    "\n",
    "The purpose here is to verify that the forward pass, backward pass, parameter updates,  \n",
    "and loss tracking are working correctly before moving on to more complex networks."
   ]
  },
  {
   "cell_type": "code",
   "execution_count": 12,
   "metadata": {
    "id": "9Y0eoXyzjExZ"
   },
   "outputs": [],
   "source": [
    "# Check if CUDA is available and set the device accordingly\n",
    "device = 'cuda' if torch.cuda.is_available() else 'cpu'\n",
    "# Forcing the device to CPU (this line will override the previous check)\n",
    "device = 'cpu'\n",
    "\n",
    "# Define the number of input features and output classes\n",
    "n_features = 784\n",
    "n_classes = 10\n",
    "\n",
    "# Initialize the network (assuming `Net` is a custom class that you've defined)\n",
    "net = Net()\n",
    "\n",
    "# Add a linear layer to the network with 784 input features and 1024 output features\n",
    "net.add(Linear(n_features, 1024, device=device))\n",
    "\n",
    "# Add another linear layer with 1024 input features and 10 output features\n",
    "net.add(Linear(1024, n_classes, device=device))\n",
    "\n",
    "# Initialize the custom cross-entropy loss function from logits\n",
    "CEloss = CrossEntropyFromLogits()"
   ]
  },
  {
   "cell_type": "code",
   "execution_count": 13,
   "metadata": {
    "id": "NqhIE7mKlTtO"
   },
   "outputs": [
    {
     "name": "stderr",
     "output_type": "stream",
     "text": [
      "Epoch 1/10 [Train]:   1%|          | 5/750 [00:00<00:15, 48.18it/s]"
     ]
    },
    {
     "name": "stderr",
     "output_type": "stream",
     "text": [
      "Epoch 1/10 [Train]: 100%|██████████| 750/750 [00:14<00:00, 50.03it/s, acc=0.6527, loss=67.1446] \n",
      "Epoch 1/10 [Val]: 100%|██████████| 188/188 [00:02<00:00, 69.53it/s]\n"
     ]
    },
    {
     "name": "stdout",
     "output_type": "stream",
     "text": [
      "Epoch 1/10 | Train Loss: 131.5472 Acc: 0.6527 | Val Loss: 60.1876 Acc: 0.7769\n"
     ]
    },
    {
     "name": "stderr",
     "output_type": "stream",
     "text": [
      "Epoch 2/10 [Train]: 100%|██████████| 750/750 [00:14<00:00, 50.69it/s, acc=0.8091, loss=49.5398]\n",
      "Epoch 2/10 [Val]: 100%|██████████| 188/188 [00:02<00:00, 70.74it/s]\n"
     ]
    },
    {
     "name": "stdout",
     "output_type": "stream",
     "text": [
      "Epoch 2/10 | Train Loss: 50.3952 Acc: 0.8091 | Val Loss: 44.6552 Acc: 0.8215\n"
     ]
    },
    {
     "name": "stderr",
     "output_type": "stream",
     "text": [
      "Epoch 3/10 [Train]: 100%|██████████| 750/750 [00:15<00:00, 49.27it/s, acc=0.8354, loss=34.7295] \n",
      "Epoch 3/10 [Val]: 100%|██████████| 188/188 [00:02<00:00, 69.81it/s]\n"
     ]
    },
    {
     "name": "stdout",
     "output_type": "stream",
     "text": [
      "Epoch 3/10 | Train Loss: 40.2132 Acc: 0.8354 | Val Loss: 37.8586 Acc: 0.8377\n"
     ]
    },
    {
     "name": "stderr",
     "output_type": "stream",
     "text": [
      "Epoch 4/10 [Train]: 100%|██████████| 750/750 [00:14<00:00, 50.98it/s, acc=0.8488, loss=35.4190]\n",
      "Epoch 4/10 [Val]: 100%|██████████| 188/188 [00:02<00:00, 69.41it/s]\n"
     ]
    },
    {
     "name": "stdout",
     "output_type": "stream",
     "text": [
      "Epoch 4/10 | Train Loss: 34.6675 Acc: 0.8488 | Val Loss: 33.5353 Acc: 0.8511\n"
     ]
    },
    {
     "name": "stderr",
     "output_type": "stream",
     "text": [
      "Epoch 5/10 [Train]: 100%|██████████| 750/750 [00:15<00:00, 49.59it/s, acc=0.8576, loss=48.9771]\n",
      "Epoch 5/10 [Val]: 100%|██████████| 188/188 [00:02<00:00, 71.53it/s]\n"
     ]
    },
    {
     "name": "stdout",
     "output_type": "stream",
     "text": [
      "Epoch 5/10 | Train Loss: 31.2562 Acc: 0.8576 | Val Loss: 31.9012 Acc: 0.8522\n"
     ]
    },
    {
     "name": "stderr",
     "output_type": "stream",
     "text": [
      "Epoch 6/10 [Train]: 100%|██████████| 750/750 [00:15<00:00, 49.10it/s, acc=0.8614, loss=6.2628] \n",
      "Epoch 6/10 [Val]: 100%|██████████| 188/188 [00:02<00:00, 70.35it/s]\n"
     ]
    },
    {
     "name": "stdout",
     "output_type": "stream",
     "text": [
      "Epoch 6/10 | Train Loss: 28.8800 Acc: 0.8614 | Val Loss: 28.6930 Acc: 0.8584\n"
     ]
    },
    {
     "name": "stderr",
     "output_type": "stream",
     "text": [
      "Epoch 7/10 [Train]: 100%|██████████| 750/750 [00:15<00:00, 48.69it/s, acc=0.8662, loss=17.7168]\n",
      "Epoch 7/10 [Val]: 100%|██████████| 188/188 [00:02<00:00, 71.50it/s]\n"
     ]
    },
    {
     "name": "stdout",
     "output_type": "stream",
     "text": [
      "Epoch 7/10 | Train Loss: 26.7892 Acc: 0.8662 | Val Loss: 27.9641 Acc: 0.8559\n"
     ]
    },
    {
     "name": "stderr",
     "output_type": "stream",
     "text": [
      "Epoch 8/10 [Train]: 100%|██████████| 750/750 [00:15<00:00, 49.25it/s, acc=0.8699, loss=18.7602]\n",
      "Epoch 8/10 [Val]: 100%|██████████| 188/188 [00:02<00:00, 71.71it/s]\n"
     ]
    },
    {
     "name": "stdout",
     "output_type": "stream",
     "text": [
      "Epoch 8/10 | Train Loss: 25.2396 Acc: 0.8699 | Val Loss: 25.6908 Acc: 0.8660\n"
     ]
    },
    {
     "name": "stderr",
     "output_type": "stream",
     "text": [
      "Epoch 9/10 [Train]: 100%|██████████| 750/750 [00:15<00:00, 49.28it/s, acc=0.8716, loss=14.7378]\n",
      "Epoch 9/10 [Val]: 100%|██████████| 188/188 [00:02<00:00, 72.16it/s]\n"
     ]
    },
    {
     "name": "stdout",
     "output_type": "stream",
     "text": [
      "Epoch 9/10 | Train Loss: 23.9815 Acc: 0.8716 | Val Loss: 24.8686 Acc: 0.8646\n"
     ]
    },
    {
     "name": "stderr",
     "output_type": "stream",
     "text": [
      "Epoch 10/10 [Train]: 100%|██████████| 750/750 [00:15<00:00, 47.69it/s, acc=0.8734, loss=37.3128]\n",
      "Epoch 10/10 [Val]: 100%|██████████| 188/188 [00:02<00:00, 70.74it/s]\n"
     ]
    },
    {
     "name": "stdout",
     "output_type": "stream",
     "text": [
      "Epoch 10/10 | Train Loss: 22.7088 Acc: 0.8734 | Val Loss: 24.2651 Acc: 0.8620\n"
     ]
    },
    {
     "name": "stderr",
     "output_type": "stream",
     "text": [
      "[Test]: 100%|██████████| 157/157 [00:02<00:00, 71.61it/s]\n"
     ]
    },
    {
     "name": "stdout",
     "output_type": "stream",
     "text": [
      "[Test] Loss: 23.1369 | Acc: 0.8742\n"
     ]
    },
    {
     "data": {
      "image/png": "[encoded data removed]",
      "text/plain": [
       "<Figure size 640x480 with 1 Axes>"
      ]
     },
     "metadata": {},
     "output_type": "display_data"
    },
    {
     "data": {
      "image/png": "[encoded data removed]",
      "text/plain": [
       "<Figure size 640x480 with 1 Axes>"
      ]
     },
     "metadata": {},
     "output_type": "display_data"
    },
    {
     "data": {
      "image/png": "[encoded data removed]",
      "text/plain": [
       "<Figure size 640x480 with 1 Axes>"
      ]
     },
     "metadata": {},
     "output_type": "display_data"
    }
   ],
   "source": [
    "# Set the learning rate\n",
    "learning_rate = 0.001\n",
    "history = {\"train_loss\": [], \"train_acc\": [], \"val_loss\": [], \"val_acc\": []}\n",
    "batch_losses = []  # per-batch losses for the plot\n",
    "\n",
    "for epoch in range(1, num_epochs + 1):\n",
    "    # -------- TRAIN --------\n",
    "    if hasattr(net, \"train\"): net.train()\n",
    "    running_loss, tot_correct, tot_samples = 0.0, 0, 0\n",
    "    total_batches = len(trainloader)\n",
    "\n",
    "    pbar = tqdm(trainloader, desc=f\"Epoch {epoch}/{num_epochs} [Train]\")\n",
    "    for batch_idx, (images, labels) in enumerate(pbar, 1):\n",
    "        X = images.view(images.size(0), -1).to(device)\n",
    "        Y = labels.to(device)\n",
    "\n",
    "        # Forward\n",
    "        Z = net.forward(X)\n",
    "        loss = CELoss.forward(Z, Y)\n",
    "\n",
    "        # Backward + update (manual autograd)\n",
    "        dZ = CELoss.backward(n_classes)\n",
    "        _ = net.backward(dZ)\n",
    "        net.update(learning_rate)\n",
    "\n",
    "        # Stats\n",
    "        running_loss += loss.item()\n",
    "        batch_losses.append(loss.detach().cpu().item())\n",
    "        _, predicted = torch.max(Z, 1)\n",
    "        tot_correct += (predicted == Y).sum().item()\n",
    "        tot_samples += Y.size(0)\n",
    "\n",
    "        if batch_idx % max(1, total_batches // 10) == 0:\n",
    "            pbar.set_postfix(loss=f\"{loss.item():.4f}\",\n",
    "                             acc=f\"{tot_correct / max(1, tot_samples):.4f}\")\n",
    "\n",
    "    train_loss = running_loss / total_batches\n",
    "    train_acc = tot_correct / tot_samples\n",
    "\n",
    "    # -------- VALIDATION --------\n",
    "    if hasattr(net, \"eval\"): net.eval()\n",
    "    val_running_loss, val_correct, val_samples = 0.0, 0, 0\n",
    "    with torch.no_grad():\n",
    "        for images, labels in tqdm(valloader, desc=f\"Epoch {epoch}/{num_epochs} [Val]\"):\n",
    "            X = images.view(images.size(0), -1).to(device)\n",
    "            Y = labels.to(device)\n",
    "\n",
    "            Z = net.forward(X)\n",
    "            vloss = CELoss.forward(Z, Y)\n",
    "            val_running_loss += vloss.item()\n",
    "\n",
    "            _, predicted = torch.max(Z, 1)\n",
    "            val_correct += (predicted == Y).sum().item()\n",
    "            val_samples += Y.size(0)\n",
    "\n",
    "    val_loss = val_running_loss / len(valloader)\n",
    "    val_acc = val_correct / val_samples\n",
    "\n",
    "    history[\"train_loss\"].append(train_loss)\n",
    "    history[\"train_acc\"].append(train_acc)\n",
    "    history[\"val_loss\"].append(val_loss)\n",
    "    history[\"val_acc\"].append(val_acc)\n",
    "\n",
    "    print(f\"Epoch {epoch}/{num_epochs} | \"\n",
    "          f\"Train Loss: {train_loss:.4f} Acc: {train_acc:.4f} | \"\n",
    "          f\"Val Loss: {val_loss:.4f} Acc: {val_acc:.4f}\")\n",
    "\n",
    "# -------- OPTIONAL TEST --------\n",
    "if 'testloader' in globals() and testloader is not None:\n",
    "    if hasattr(net, \"eval\"): net.eval()\n",
    "    test_correct, test_samples, test_running_loss = 0, 0, 0.0\n",
    "    with torch.no_grad():\n",
    "        for images, labels in tqdm(testloader, desc=\"[Test]\"):\n",
    "            X = images.view(images.size(0), -1).to(device)\n",
    "            Y = labels.to(device)\n",
    "            Z = net.forward(X)\n",
    "            loss = CELoss.forward(Z, Y)\n",
    "            test_running_loss += loss.item()\n",
    "            _, pred = torch.max(Z, 1)\n",
    "            test_correct += (pred == Y).sum().item()\n",
    "            test_samples += Y.size(0)\n",
    "    test_loss = test_running_loss / len(testloader)\n",
    "    test_acc = test_correct / test_samples\n",
    "    print(f\"[Test] Loss: {test_loss:.4f} | Acc: {test_acc:.4f}\")\n",
    "\n",
    "# -------- PLOTS --------\n",
    "plt.figure(); plt.plot(np.array(batch_losses))\n",
    "plt.xlabel('Batch'); plt.ylabel('Loss'); plt.title('Training Loss (per batch)'); plt.show()\n",
    "\n",
    "plt.figure(); plt.plot(history[\"train_loss\"], label='Train'); plt.plot(history[\"val_loss\"], label='Val')\n",
    "plt.xlabel('Epoch'); plt.ylabel('Loss'); plt.legend(); plt.title('Loss per Epoch'); plt.show()\n",
    "\n",
    "plt.figure(); plt.plot(history[\"train_acc\"], label='Train'); plt.plot(history[\"val_acc\"], label='Val')\n",
    "plt.xlabel('Epoch'); plt.ylabel('Accuracy'); plt.legend(); plt.title('Accuracy per Epoch'); plt.show()"
   ]
  },
  {
   "cell_type": "markdown",
   "metadata": {},
   "source": [
    "Muy buenos resultados 👌. Te resumo lo que muestran tus curvas y logs:\n",
    "\n",
    "Training Loss por batch\n",
    "\n",
    "Al inicio el loss es altísimo, pero cae rápidamente → la red está aprendiendo desde la primera época.\n",
    "\n",
    "Después se estabiliza alrededor de valores bajos → las actualizaciones son consistentes.\n",
    "\n",
    "Loss por época (train vs val)\n",
    "\n",
    "Ambos bajan de forma suave y paralela → no hay overfitting serio todavía.\n",
    "\n",
    "El loss de validación incluso es un poco menor que el de entrenamiento en algunas épocas → la red generaliza bien.\n",
    "\n",
    "Accuracy por época (train vs val)\n",
    "\n",
    "Sube rápido (de ~0.70 a casi 0.88).\n",
    "\n",
    "Curvas de train y val muy cercanas → buen balance, no hay gran brecha.\n",
    "\n",
    "La accuracy final ≈ 88% en test, lo cual es excelente teniendo en cuenta que solo usaste dos capas lineales sin activaciones (o sea, básicamente softmax regression).\n",
    "\n",
    "\n",
    "En general:\n",
    "Tu implementación de forward, backward y updates está funcionando correctamente ✅.\n",
    "El modelo lineal ya logra buena performance en MNIST, pero está alcanzando su límite (≈88%). Para superar ~95% necesitarás no-linealidades (ReLU) y quizá regularización (Dropout)"
   ]
  },
  {
   "cell_type": "markdown",
   "metadata": {
    "id": "t--JpzANm2Fz"
   },
   "source": [
    "### ReLU Activation Layer\n",
    "\n",
    "The **Rectified Linear Unit (ReLU)** is one of the most widely used activation functions in deep learning.  \n",
    "It introduces **non-linearity** into the network by applying a simple element-wise rule:\n",
    "\n",
    "$$\n",
    "a = \\text{ReLU}(z) = \\max(0, z)\n",
    "$$\n",
    "\n",
    "- **Forward Pass**:  \n",
    "  Each element of the input tensor \\( Z \\) is mapped to itself if it is positive, or zero if it is negative.  \n",
    "  This helps prevent the \"squashing\" effect of sigmoid/tanh and allows gradients to flow more effectively.\n",
    "\n",
    "- **Backward Pass**:  \n",
    "  The gradient is passed unchanged for inputs greater than zero and is set to zero for inputs less than or equal to zero:\n",
    "\n",
    "  $$\n",
    "  \\frac{\\partial a}{\\partial z} =\n",
    "  \\begin{cases}\n",
    "  1 & \\text{if } z > 0 \\\\\n",
    "  0 & \\text{if } z \\leq 0\n",
    "  \\end{cases}\n",
    "  $$\n",
    "\n",
    "- **Update Step**:  \n",
    "  ReLU has no trainable parameters, so its `update()` method is left empty.\n",
    "\n",
    "This layer is essential because it allows neural networks to model complex non-linear decision boundaries while remaining computationally efficient.\n"
   ]
  },
  {
   "cell_type": "code",
   "execution_count": 14,
   "metadata": {
    "id": "tmEUvk1dod-N"
   },
   "outputs": [],
   "source": [
    "class ReLU:\n",
    "    \"\"\"\n",
    "    ReLU activation layer.\n",
    "    \"\"\"\n",
    "\n",
    "    def forward(self, Z):\n",
    "        \"\"\"\n",
    "        Perform the forward pass of the ReLU activation function.\n",
    "\n",
    "        Args:\n",
    "            Z (torch.Tensor): Input tensor.\n",
    "\n",
    "        Returns:\n",
    "            torch.Tensor: Output tensor with ReLU applied element-wise.\n",
    "        \"\"\"\n",
    "        self.Z = Z  # 🔑 guardar para el backward\n",
    "        self.A = torch.clamp(Z, min=0)  # equivalente a max(0, Z)\n",
    "        return self.A\n",
    "\n",
    "    def backward(self, dA):\n",
    "        \"\"\"\n",
    "        Perform the backward pass of the ReLU activation function.\n",
    "\n",
    "        Args:\n",
    "            dA (torch.Tensor): Gradient of the loss with respect to the output.\n",
    "\n",
    "        Returns:\n",
    "            dZ torch.Tensor: Gradient of the loss with respect to the input.\n",
    "        \"\"\"\n",
    "        dZ = dA.clone()  # copiar para no modificar dA\n",
    "        dZ[self.Z <= 0] = 0  # 🔑 gradiente se bloquea en las entradas negativas\n",
    "        return dZ\n",
    "\n",
    "    def update(self, lr):\n",
    "        \"\"\"\n",
    "        ReLU does not have any parameters to update.\n",
    "        \"\"\"\n",
    "        pass"
   ]
  },
  {
   "cell_type": "code",
   "execution_count": 15,
   "metadata": {
    "id": "rRQxxSRlph7k"
   },
   "outputs": [],
   "source": [
    "# Check if CUDA is available and set the device accordingly\n",
    "device = 'cuda' if torch.cuda.is_available() else 'cpu'\n",
    "# Forcing the device to CPU (this line will override the previous check)\n",
    "device = 'cpu'\n",
    "\n",
    "# Define the number of input features and output classes\n",
    "n_features = 784\n",
    "n_classes = 10\n",
    "\n",
    "# Initialize the network (assuming `Net` is a custom class that you've defined)\n",
    "net = Net()\n",
    "\n",
    "# Add a linear layer to the network with 784 input features and 1024 output features\n",
    "net.add(Linear(n_features, 1024, device=device))\n",
    "\n",
    "# Add a non-linear activation function\n",
    "net.add(ReLU())\n",
    "\n",
    "# Add another linear layer with 1024 input features and 10 output features\n",
    "net.add(Linear(1024, n_classes, device=device))\n",
    "\n",
    "# Initialize the custom cross-entropy loss function from logits\n",
    "CEloss = CrossEntropyFromLogits()"
   ]
  },
  {
   "cell_type": "code",
   "execution_count": 16,
   "metadata": {
    "id": "xCBYBn9Dp5mv"
   },
   "outputs": [
    {
     "name": "stderr",
     "output_type": "stream",
     "text": [
      "Epoch 1/10 [Train]:   1%|          | 6/750 [00:00<00:13, 55.47it/s]"
     ]
    },
    {
     "name": "stderr",
     "output_type": "stream",
     "text": [
      "Epoch 1/10 [Train]: 100%|██████████| 750/750 [00:15<00:00, 47.18it/s, acc=0.6176, loss=68.2077] \n",
      "Epoch 1/10 [Val]: 100%|██████████| 188/188 [00:02<00:00, 71.53it/s]\n"
     ]
    },
    {
     "name": "stdout",
     "output_type": "stream",
     "text": [
      "Epoch 1/10 | Train Loss: 100.3571 Acc: 0.6176 | Val Loss: 43.3333 Acc: 0.7761\n"
     ]
    },
    {
     "name": "stderr",
     "output_type": "stream",
     "text": [
      "Epoch 2/10 [Train]: 100%|██████████| 750/750 [00:15<00:00, 46.96it/s, acc=0.8059, loss=19.0388]\n",
      "Epoch 2/10 [Val]: 100%|██████████| 188/188 [00:02<00:00, 69.81it/s]\n"
     ]
    },
    {
     "name": "stdout",
     "output_type": "stream",
     "text": [
      "Epoch 2/10 | Train Loss: 36.5103 Acc: 0.8059 | Val Loss: 32.3956 Acc: 0.8206\n"
     ]
    },
    {
     "name": "stderr",
     "output_type": "stream",
     "text": [
      "Epoch 3/10 [Train]: 100%|██████████| 750/750 [00:16<00:00, 46.67it/s, acc=0.8379, loss=19.5072]\n",
      "Epoch 3/10 [Val]: 100%|██████████| 188/188 [00:02<00:00, 70.38it/s]\n"
     ]
    },
    {
     "name": "stdout",
     "output_type": "stream",
     "text": [
      "Epoch 3/10 | Train Loss: 28.5101 Acc: 0.8379 | Val Loss: 27.4773 Acc: 0.8421\n"
     ]
    },
    {
     "name": "stderr",
     "output_type": "stream",
     "text": [
      "Epoch 4/10 [Train]: 100%|██████████| 750/750 [00:16<00:00, 45.70it/s, acc=0.8542, loss=16.6232]\n",
      "Epoch 4/10 [Val]: 100%|██████████| 188/188 [00:02<00:00, 70.55it/s]\n"
     ]
    },
    {
     "name": "stdout",
     "output_type": "stream",
     "text": [
      "Epoch 4/10 | Train Loss: 24.3608 Acc: 0.8542 | Val Loss: 24.3506 Acc: 0.8534\n"
     ]
    },
    {
     "name": "stderr",
     "output_type": "stream",
     "text": [
      "Epoch 5/10 [Train]: 100%|██████████| 750/750 [00:16<00:00, 45.79it/s, acc=0.8655, loss=10.0582]\n",
      "Epoch 5/10 [Val]: 100%|██████████| 188/188 [00:02<00:00, 71.02it/s]\n"
     ]
    },
    {
     "name": "stdout",
     "output_type": "stream",
     "text": [
      "Epoch 5/10 | Train Loss: 21.5185 Acc: 0.8655 | Val Loss: 22.2579 Acc: 0.8634\n"
     ]
    },
    {
     "name": "stderr",
     "output_type": "stream",
     "text": [
      "Epoch 6/10 [Train]: 100%|██████████| 750/750 [00:16<00:00, 46.17it/s, acc=0.8729, loss=2.9502] \n",
      "Epoch 6/10 [Val]: 100%|██████████| 188/188 [00:02<00:00, 69.24it/s]\n"
     ]
    },
    {
     "name": "stdout",
     "output_type": "stream",
     "text": [
      "Epoch 6/10 | Train Loss: 19.4652 Acc: 0.8729 | Val Loss: 21.0700 Acc: 0.8675\n"
     ]
    },
    {
     "name": "stderr",
     "output_type": "stream",
     "text": [
      "Epoch 7/10 [Train]: 100%|██████████| 750/750 [00:16<00:00, 46.30it/s, acc=0.8782, loss=18.8972]\n",
      "Epoch 7/10 [Val]: 100%|██████████| 188/188 [00:02<00:00, 70.01it/s]\n"
     ]
    },
    {
     "name": "stdout",
     "output_type": "stream",
     "text": [
      "Epoch 7/10 | Train Loss: 17.8730 Acc: 0.8782 | Val Loss: 19.4020 Acc: 0.8749\n"
     ]
    },
    {
     "name": "stderr",
     "output_type": "stream",
     "text": [
      "Epoch 8/10 [Train]: 100%|██████████| 750/750 [00:16<00:00, 46.19it/s, acc=0.8835, loss=23.3710]\n",
      "Epoch 8/10 [Val]: 100%|██████████| 188/188 [00:02<00:00, 68.79it/s]\n"
     ]
    },
    {
     "name": "stdout",
     "output_type": "stream",
     "text": [
      "Epoch 8/10 | Train Loss: 16.6724 Acc: 0.8835 | Val Loss: 18.7310 Acc: 0.8769\n"
     ]
    },
    {
     "name": "stderr",
     "output_type": "stream",
     "text": [
      "Epoch 9/10 [Train]: 100%|██████████| 750/750 [00:16<00:00, 46.14it/s, acc=0.8863, loss=25.6918]\n",
      "Epoch 9/10 [Val]: 100%|██████████| 188/188 [00:02<00:00, 70.92it/s]\n"
     ]
    },
    {
     "name": "stdout",
     "output_type": "stream",
     "text": [
      "Epoch 9/10 | Train Loss: 15.5977 Acc: 0.8863 | Val Loss: 17.6305 Acc: 0.8813\n"
     ]
    },
    {
     "name": "stderr",
     "output_type": "stream",
     "text": [
      "Epoch 10/10 [Train]: 100%|██████████| 750/750 [00:16<00:00, 46.12it/s, acc=0.8912, loss=12.4649]\n",
      "Epoch 10/10 [Val]: 100%|██████████| 188/188 [00:02<00:00, 71.37it/s]\n"
     ]
    },
    {
     "name": "stdout",
     "output_type": "stream",
     "text": [
      "Epoch 10/10 | Train Loss: 14.6764 Acc: 0.8912 | Val Loss: 16.9809 Acc: 0.8816\n"
     ]
    },
    {
     "name": "stderr",
     "output_type": "stream",
     "text": [
      "[Test]: 100%|██████████| 157/157 [00:02<00:00, 70.47it/s]\n"
     ]
    },
    {
     "name": "stdout",
     "output_type": "stream",
     "text": [
      "[Test] Loss: 14.8192 | Acc: 0.8913\n"
     ]
    },
    {
     "data": {
      "image/png": "[encoded data removed]",
      "text/plain": [
       "<Figure size 640x480 with 1 Axes>"
      ]
     },
     "metadata": {},
     "output_type": "display_data"
    },
    {
     "data": {
      "image/png": "[encoded data removed]",
      "text/plain": [
       "<Figure size 640x480 with 1 Axes>"
      ]
     },
     "metadata": {},
     "output_type": "display_data"
    },
    {
     "data": {
      "image/png": "[encoded data removed]",
      "text/plain": [
       "<Figure size 640x480 with 1 Axes>"
      ]
     },
     "metadata": {},
     "output_type": "display_data"
    }
   ],
   "source": [
    "# Set the learning rate\n",
    "learning_rate = 0.001\n",
    "history = {\"train_loss\": [], \"train_acc\": [], \"val_loss\": [], \"val_acc\": []}\n",
    "batch_losses = []  # per-batch losses for the plot\n",
    "\n",
    "for epoch in range(1, num_epochs + 1):\n",
    "    # -------- TRAIN --------\n",
    "    if hasattr(net, \"train\"): net.train()\n",
    "    running_loss, tot_correct, tot_samples = 0.0, 0, 0\n",
    "    total_batches = len(trainloader)\n",
    "\n",
    "    pbar = tqdm(trainloader, desc=f\"Epoch {epoch}/{num_epochs} [Train]\")\n",
    "    for batch_idx, (images, labels) in enumerate(pbar, 1):\n",
    "        X = images.view(images.size(0), -1).to(device)\n",
    "        Y = labels.to(device)\n",
    "\n",
    "        # Forward\n",
    "        Z = net.forward(X)\n",
    "        loss = CELoss.forward(Z, Y)\n",
    "\n",
    "        # Backward + update (manual autograd)\n",
    "        dZ = CELoss.backward(n_classes)\n",
    "        _ = net.backward(dZ)\n",
    "        net.update(learning_rate)\n",
    "\n",
    "        # Stats\n",
    "        running_loss += loss.item()\n",
    "        batch_losses.append(loss.detach().cpu().item())\n",
    "        _, predicted = torch.max(Z, 1)\n",
    "        tot_correct += (predicted == Y).sum().item()\n",
    "        tot_samples += Y.size(0)\n",
    "\n",
    "        if batch_idx % max(1, total_batches // 10) == 0:\n",
    "            pbar.set_postfix(loss=f\"{loss.item():.4f}\",\n",
    "                             acc=f\"{tot_correct / max(1, tot_samples):.4f}\")\n",
    "\n",
    "    train_loss = running_loss / total_batches\n",
    "    train_acc = tot_correct / tot_samples\n",
    "\n",
    "    # -------- VALIDATION --------\n",
    "    if hasattr(net, \"eval\"): net.eval()\n",
    "    val_running_loss, val_correct, val_samples = 0.0, 0, 0\n",
    "    with torch.no_grad():\n",
    "        for images, labels in tqdm(valloader, desc=f\"Epoch {epoch}/{num_epochs} [Val]\"):\n",
    "            X = images.view(images.size(0), -1).to(device)\n",
    "            Y = labels.to(device)\n",
    "\n",
    "            Z = net.forward(X)\n",
    "            vloss = CELoss.forward(Z, Y)\n",
    "            val_running_loss += vloss.item()\n",
    "\n",
    "            _, predicted = torch.max(Z, 1)\n",
    "            val_correct += (predicted == Y).sum().item()\n",
    "            val_samples += Y.size(0)\n",
    "\n",
    "    val_loss = val_running_loss / len(valloader)\n",
    "    val_acc = val_correct / val_samples\n",
    "\n",
    "    history[\"train_loss\"].append(train_loss)\n",
    "    history[\"train_acc\"].append(train_acc)\n",
    "    history[\"val_loss\"].append(val_loss)\n",
    "    history[\"val_acc\"].append(val_acc)\n",
    "\n",
    "    print(f\"Epoch {epoch}/{num_epochs} | \"\n",
    "          f\"Train Loss: {train_loss:.4f} Acc: {train_acc:.4f} | \"\n",
    "          f\"Val Loss: {val_loss:.4f} Acc: {val_acc:.4f}\")\n",
    "\n",
    "# -------- OPTIONAL TEST --------\n",
    "if 'testloader' in globals() and testloader is not None:\n",
    "    if hasattr(net, \"eval\"): net.eval()\n",
    "    test_correct, test_samples, test_running_loss = 0, 0, 0.0\n",
    "    with torch.no_grad():\n",
    "        for images, labels in tqdm(testloader, desc=\"[Test]\"):\n",
    "            X = images.view(images.size(0), -1).to(device)\n",
    "            Y = labels.to(device)\n",
    "            Z = net.forward(X)\n",
    "            loss = CELoss.forward(Z, Y)\n",
    "            test_running_loss += loss.item()\n",
    "            _, pred = torch.max(Z, 1)\n",
    "            test_correct += (pred == Y).sum().item()\n",
    "            test_samples += Y.size(0)\n",
    "    test_loss = test_running_loss / len(testloader)\n",
    "    test_acc = test_correct / test_samples\n",
    "    print(f\"[Test] Loss: {test_loss:.4f} | Acc: {test_acc:.4f}\")\n",
    "\n",
    "# -------- PLOTS --------\n",
    "plt.figure(); plt.plot(np.array(batch_losses))\n",
    "plt.xlabel('Batch'); plt.ylabel('Loss'); plt.title('Training Loss (per batch)'); plt.show()\n",
    "\n",
    "plt.figure(); plt.plot(history[\"train_loss\"], label='Train'); plt.plot(history[\"val_loss\"], label='Val')\n",
    "plt.xlabel('Epoch'); plt.ylabel('Loss'); plt.legend(); plt.title('Loss per Epoch'); plt.show()\n",
    "\n",
    "plt.figure(); plt.plot(history[\"train_acc\"], label='Train'); plt.plot(history[\"val_acc\"], label='Val')\n",
    "plt.xlabel('Epoch'); plt.ylabel('Accuracy'); plt.legend(); plt.title('Accuracy per Epoch'); plt.show()"
   ]
  },
  {
   "cell_type": "markdown",
   "metadata": {
    "id": "L94-47vRosR6"
   },
   "source": [
    "### Extending the Neural Network\n",
    "\n",
    "At this point, we have implemented the essential components of a neural network:  \n",
    "- **Linear transformations (fully connected layers)** to project data into new spaces,  \n",
    "- **Non-linear activation functions** such as ReLU to introduce complexity and allow the network to model non-linear relationships, and  \n",
    "- **A cost function (e.g., Cross-Entropy)** to measure the discrepancy between predictions and true labels.  \n",
    "\n",
    "While this setup already allows us to train a functional neural network, more advanced operations can significantly improve performance and generalization. Two of the most important techniques are:  \n",
    "\n",
    "- **Dropout**: Randomly disables a fraction of neurons during training, preventing co-adaptation and reducing overfitting.  \n",
    "- **Batch Normalization**: Normalizes intermediate activations across a mini-batch, stabilizing training and often accelerating convergence.  \n",
    "\n",
    "Adding these operations will bring our implementation closer to modern deep learning practices, making the models both more robust and efficient.\n"
   ]
  },
  {
   "cell_type": "markdown",
   "metadata": {
    "id": "6GxeamCV5qEY"
   },
   "source": [
    "### Batch Normalization\n",
    "\n",
    "Batch Normalization (BN) is used to stabilize and accelerate training by normalizing activations.  \n",
    "Given input activations $X \\in \\mathbb{R}^{m \\times d}$ (batch size $m$, features $d$):\n",
    "\n",
    "---\n",
    "\n",
    "**Training mode**\n",
    "\n",
    "Batch statistics:  \n",
    "$$\n",
    "\\mu_{\\mathrm{B}}=\\frac{1}{m}\\sum_{i=1}^m X_i\n",
    "$$  \n",
    "$$\n",
    "\\sigma^2_{\\mathrm{B}}=\\frac{1}{m}\\sum_{i=1}^m \\left(X_i-\\mu_{\\mathrm{B}}\\right)^2\n",
    "$$\n",
    "\n",
    "Normalize, then scale/shift:  \n",
    "$$\n",
    "\\hat{X}_i=\\frac{X_i-\\mu_{\\mathrm{B}}}{\\sqrt{\\sigma^2_{\\mathrm{B}}+\\varepsilon}}\n",
    "$$  \n",
    "$$\n",
    "Y_i=\\gamma\\,\\hat{X}_i+\\beta\n",
    "$$\n",
    "\n",
    "Update running (EMA) statistics with momentum $\\alpha$:  \n",
    "$$\n",
    "\\mu_{\\mathrm{R}} \\leftarrow (1-\\alpha)\\,\\mu_{\\mathrm{R}} + \\alpha\\,\\mu_{\\mathrm{B}}\n",
    "$$  \n",
    "$$\n",
    "\\sigma^2_{\\mathrm{R}} \\leftarrow (1-\\alpha)\\,\\sigma^2_{\\mathrm{R}} + \\alpha\\,\\sigma^2_{\\mathrm{B}}\n",
    "$$\n",
    "\n",
    "---\n",
    "\n",
    "**Inference mode**\n",
    "\n",
    "Use stored running statistics (no updates):  \n",
    "$$\n",
    "\\hat{X}_i=\\frac{X_i-\\mu_{\\mathrm{R}}}{\\sqrt{\\sigma^2_{\\mathrm{R}}+\\varepsilon}}\n",
    "$$  \n",
    "$$\n",
    "Y_i=\\gamma\\,\\hat{X}_i+\\beta\n",
    "$$\n",
    "\n",
    "---\n",
    "\n",
    "**Summary:**  \n",
    "- **Training:** use $(\\mu_{\\mathrm{B}}, \\sigma^2_{\\mathrm{B}})$, normalize, scale/shift, update $(\\mu_{\\mathrm{R}}, \\sigma^2_{\\mathrm{R}})$.  \n",
    "- **Inference:** use $(\\mu_{\\mathrm{R}}, \\sigma^2_{\\mathrm{R}})$ collected during training, normalize, scale/shift, **no updates**.\n",
    "\n",
    "---\n",
    "\n",
    "### Task\n",
    "\n",
    "Implement **BatchNorm as a class** with the following:\n",
    "\n",
    "- **Forward pass (`forward`)**  \n",
    "  - #TODO compute batch mean $\\mu_{\\mathrm{B}}$ and variance $\\sigma^2_{\\mathrm{B}}$ (training)  \n",
    "  - #TODO normalize input $X$  \n",
    "  - #TODO scale and shift using $\\gamma, \\beta$  \n",
    "  - #TODO update running mean/variance (training only)  \n",
    "  - #TODO use running statistics in inference mode  \n",
    "\n",
    "- **Backward pass (`backward`)**  \n",
    "  - #TODO compute gradient of loss w.r.t. $\\hat{X}$  \n",
    "  - #TODO propagate through normalization to get $dX$  \n",
    "  - #TODO compute gradients w.r.t. parameters $\\gamma, \\beta$  \n",
    "\n",
    "- **Update parameters (`update`)**  \n",
    "  - #TODO update $\\gamma, \\beta$ using the learning rate\n"
   ]
  },
  {
   "cell_type": "code",
   "execution_count": 1,
   "metadata": {
    "id": "lu09TUDa5Re_"
   },
   "outputs": [],
   "source": [
    "import torch\n",
    "\n",
    "class BatchNorm1D:\n",
    "    \"\"\"\n",
    "    Batch Normalization for 2D inputs: (batch, features).\n",
    "    \"\"\"\n",
    "\n",
    "    def __init__(self, n_features, eps=1e-5, momentum=0.1, device=\"cpu\"):\n",
    "        self.eps = eps\n",
    "        self.momentum = momentum\n",
    "        self.device = device\n",
    "\n",
    "        # Learnable affine parameters\n",
    "        self.gamma = torch.ones(n_features, device=device, requires_grad=False)\n",
    "        self.beta  = torch.zeros(n_features, device=device, requires_grad=False)\n",
    "\n",
    "        # Running (inference) statistics\n",
    "        self.running_mean = torch.zeros(n_features, device=device, requires_grad=False)\n",
    "        self.running_var  = torch.ones(n_features,  device=device, requires_grad=False)\n",
    "\n",
    "        # Mode flag\n",
    "        self.training = True\n",
    "\n",
    "        # Caches for backward (reset each forward)\n",
    "        self.reset_cache()\n",
    "\n",
    "        # Grads for parameters\n",
    "        self.dgamma = None\n",
    "        self.dbeta  = None\n",
    "\n",
    "    def reset_cache(self):\n",
    "        \"\"\"Clear cached values (called at start of each forward).\"\"\"\n",
    "        self.X = None\n",
    "        self.X_hat = None\n",
    "        self.batch_mean = None\n",
    "        self.batch_var = None\n",
    "        self.std = None\n",
    "\n",
    "    def train(self): \n",
    "        self.training = True\n",
    "        return self\n",
    "\n",
    "    def eval(self):  \n",
    "        self.training = False\n",
    "        return self\n",
    "\n",
    "    def forward(self, X):\n",
    "        # reset cache at each forward\n",
    "        self.reset_cache()\n",
    "\n",
    "        if self.training:\n",
    "            # ===== batch statistics =====\n",
    "            self.batch_mean = X.mean(dim=0)\n",
    "            self.batch_var  = X.var(dim=0, unbiased=False)\n",
    "\n",
    "            # ===== normalize =====\n",
    "            self.std = torch.sqrt(self.batch_var + self.eps)\n",
    "            self.X_hat = (X - self.batch_mean) / self.std\n",
    "\n",
    "            # ===== update running stats =====\n",
    "            self.running_mean = (1 - self.momentum) * self.running_mean + self.momentum * self.batch_mean\n",
    "            self.running_var  = (1 - self.momentum) * self.running_var  + self.momentum * self.batch_var\n",
    "        else:\n",
    "            # ===== inference normalization =====\n",
    "            self.std = torch.sqrt(self.running_var + self.eps)\n",
    "            self.X_hat = (X - self.running_mean) / self.std\n",
    "\n",
    "        # Cache input\n",
    "        self.X = X\n",
    "\n",
    "        # ===== affine transform =====\n",
    "        Y = self.gamma * self.X_hat + self.beta\n",
    "        return Y\n",
    "\n",
    "    def backward(self, dY):\n",
    "        if not self.training:\n",
    "            raise RuntimeError(\"Backward called in eval() mode. Use training mode for gradient computation.\")\n",
    "        if self.X is None or self.std is None:\n",
    "            raise RuntimeError(\"Cache is empty. Did you forget to call forward() before backward()?\")\n",
    "\n",
    "        m = dY.size(0)\n",
    "\n",
    "        # ===== parameter gradients =====\n",
    "        self.dbeta  = dY.sum(dim=0)\n",
    "        self.dgamma = torch.sum(dY * self.X_hat, dim=0)\n",
    "\n",
    "        # ===== gradient wrt normalized activations =====\n",
    "        dx_hat = dY * self.gamma\n",
    "\n",
    "        # Cached values\n",
    "        x_mu   = self.X - self.batch_mean\n",
    "        invstd = 1.0 / self.std  # safe because std is cached\n",
    "\n",
    "        # ===== gradients of mean and variance =====\n",
    "        dvar  = torch.sum(dx_hat * x_mu * -0.5 * (invstd ** 3), dim=0)\n",
    "        dmean = torch.sum(-dx_hat * invstd, dim=0) + dvar * torch.mean(-2.0 * x_mu, dim=0)\n",
    "\n",
    "        # ===== gradient wrt input =====\n",
    "        dX = dx_hat * invstd + (2.0 / m) * x_mu * dvar + dmean / m\n",
    "\n",
    "        return dX\n",
    "\n",
    "    def update(self, lr):\n",
    "        # Simple SGD step\n",
    "        if self.dgamma is None or self.dbeta is None:\n",
    "            raise RuntimeError(\"No gradients available. Did you forget to call backward()?\")\n",
    "\n",
    "        self.gamma -= lr * self.dgamma\n",
    "        self.beta  -= lr * self.dbeta\n"
   ]
  },
  {
   "cell_type": "markdown",
   "metadata": {
    "id": "xtu3_Meh8eBH"
   },
   "source": [
    "### Inverted Dropout ###\n",
    "\n",
    "Let:  \n",
    "$ p = \\text{drop probability (fraction of units set to zero in training)}$\n",
    "$ q = 1-p = \\text{keep probability} $\n",
    "$ X \\in \\mathbb{R}^{m \\times d} = \\text{activations (batch } m, \\text{ features } d) $\n",
    "$ M \\in \\left\\{ 0, \\frac{1}{q} \\right\\}^{m \\times d} = \\text{dropout mask} $\n",
    "\n",
    "---\n",
    "\n",
    "**Training mode:**\n",
    "\n",
    "We sample the mask $$ M $$ as:\n",
    "$$\n",
    "M_{ij} =\n",
    "\\begin{cases}\n",
    "\\frac{1}{q}, & \\text{with probability } q, \\\\\n",
    "0, & \\text{with probability } p\n",
    "\\end{cases}\n",
    "$$\n",
    "\n",
    "Then the output is:\n",
    "$$\n",
    "Y = X \\odot M\n",
    "$$\n",
    "\n",
    "**Expected value during training:**\n",
    "$$\n",
    "\\mathbb{E}[Y] = \\mathbb{E}[X \\odot M] = X \\cdot \\mathbb{E}[M] = X \\cdot \\left(q \\cdot \\frac{1}{q} + p \\cdot 0\\right) = X\n",
    "$$\n",
    "\n",
    "Thus, the expected activations in training match those in inference.\n",
    "\n",
    "---\n",
    "\n",
    "**Inference mode:**\n",
    "\n",
    "No dropout, no scaling:\n",
    "$$\n",
    "Y = X\n",
    "$$\n",
    "\n",
    "Since training already scaled the kept units by $$ \\tfrac{1}{q} $$, the magnitude matches without extra work.\n",
    "\n",
    "---\n",
    "\n",
    "**Why not multiply by $ p $?**\n",
    "\n",
    "Multiplying by $ p $ would shrink the kept activations instead of preserving their expected value:\n",
    "$$\n",
    "\\mathbb{E}[Y] = X \\cdot p \\quad \\neq \\quad X\n",
    "$$\n",
    "\n",
    "That would require extra scaling at inference, which *inverted dropout* avoids.\n",
    "\n",
    "---\n",
    "\n",
    "**Summary:**\n",
    "\n",
    "**Training:**  \n",
    "$$\n",
    "Y = X \\odot M, \\quad M_{ij} \\in \\left\\{0, \\tfrac{1}{1-p}\\right\\}\n",
    "$$\n",
    "\n",
    "**Inference:**  \n",
    "$$\n",
    "Y = X\n",
    "$$\n",
    "\n",
    "Property preserved:  \n",
    "$$\n",
    "\\mathbb{E}[Y] = X\n",
    "$$\n",
    "\n",
    "---\n",
    "\n",
    "### ✅ Task\n",
    "\n",
    "- Implement an **`Inverted Dropout`** layer with the following methods:  \n",
    "  - `forward(X)`:  \n",
    "    - In **training mode**, apply mask $$ M $$ as above.  \n",
    "    - In **evaluation mode**, return $$ X $$.  \n",
    "  - `backward(dY)`: propagate gradients through the same mask.  \n",
    "  - `train()` / `eval()`: toggle between training and inference modes.  \n",
    "  - `update(lr)`: no parameters to update, but include for API consistency.  \n",
    "\n",
    "- Verify by simulation that:  \n",
    "  1. The expected output of the dropout layer in **training** matches the original input.  \n",
    "  2. No scaling is needed in **evaluation**.\n"
   ]
  },
  {
   "cell_type": "code",
   "execution_count": 2,
   "metadata": {
    "id": "m-ePO-1o7-_x"
   },
   "outputs": [],
   "source": [
    "import torch\n",
    "\n",
    "class Dropout:\n",
    "    \"\"\"\n",
    "    Inverted Dropout (for fully-connected tensors [batch, features]).\n",
    "\n",
    "    - TRAIN: randomly zeroes activations with prob p, and rescales by 1/(1-p)\n",
    "             so the expected activation stays constant.\n",
    "    - EVAL:  identity (no dropout, no scaling).\n",
    "    \"\"\"\n",
    "\n",
    "    def __init__(self, p=0.5, device=\"cpu\"):\n",
    "        assert 0.0 <= p < 1.0, \"p must be in [0, 1).\"\n",
    "        self.p = p\n",
    "        self.device = device\n",
    "        self.training = True\n",
    "        self.mask = None  # cache for backward\n",
    "\n",
    "    # Mode control\n",
    "    def train(self):\n",
    "        self.training = True\n",
    "        return self\n",
    "\n",
    "    def eval(self):\n",
    "        self.training = False\n",
    "        return self\n",
    "\n",
    "    def forward(self, X):\n",
    "        if self.training and self.p > 0.0:\n",
    "            # ===== Inverted dropout mask =====\n",
    "            keep_prob = 1.0 - self.p\n",
    "            # Bernoulli mask {0,1} with prob keep_prob\n",
    "            bernoulli = torch.bernoulli(torch.full_like(X, keep_prob, device=self.device))\n",
    "            # Scale mask to {0, 1/keep_prob}\n",
    "            self.mask = bernoulli / keep_prob\n",
    "            # Apply mask\n",
    "            return X * self.mask\n",
    "        else:\n",
    "            # In eval mode: identity\n",
    "            self.mask = torch.ones_like(X, device=self.device)\n",
    "            return X\n",
    "\n",
    "    def backward(self, dY):\n",
    "        if self.training and self.p > 0.0:\n",
    "            # Only pass gradients where mask kept activations\n",
    "            return dY * self.mask\n",
    "        else:\n",
    "            # Eval mode: gradient flows unchanged\n",
    "            return dY\n",
    "\n",
    "    def update(self, lr):\n",
    "        # No learnable params in Dropout\n",
    "        pass\n"
   ]
  },
  {
   "cell_type": "markdown",
   "metadata": {},
   "source": [
    "mini test"
   ]
  },
  {
   "cell_type": "code",
   "execution_count": null,
   "metadata": {},
   "outputs": [
    {
     "name": "stdout",
     "output_type": "stream",
     "text": [
      "0.9819999933242798\n"
     ]
    }
   ],
   "source": [
    "# Esperanza preservada en training\n",
    "X = torch.ones(10000, 1)\n",
    "drop = Dropout(p=0.5)\n",
    "Y = drop.forward(X)\n",
    "print(Y.mean().item())  # ≈ 1.0"
   ]
  },
  {
   "cell_type": "code",
   "execution_count": 4,
   "metadata": {},
   "outputs": [
    {
     "name": "stdout",
     "output_type": "stream",
     "text": [
      "1.0124000310897827\n"
     ]
    }
   ],
   "source": [
    "# y en inference\n",
    "X = torch.ones(10000, 1)\n",
    "drop = Dropout(p=0.5)\n",
    "Y = drop.forward(X)\n",
    "print(Y.mean().item())  # ≈ 1.0"
   ]
  },
  {
   "cell_type": "markdown",
   "metadata": {
    "id": "fjxeufrGs7HS"
   },
   "source": [
    "## Final Task — Put It All Together\n",
    "\n",
    "In this capstone exercise you will **assemble a complete mini deep-learning stack** and use it to train MNIST models. You’ll integrate **Linear**, **ReLU**, **BatchNorm1D**, and **Dropout**, write a clean **training/validation loop**, experiment with **different architectures**, and finally **package your code** into a reusable Python module.\n",
    "\n",
    "### What to Build\n",
    "\n",
    "1. **Model Architectures (experiment)**\n",
    "   - Start with a baseline: `Linear(784→10)` (softmax regression).\n",
    "   - Add depth + non-linearities:\n",
    "     - Example A: `Linear(784→256) → ReLU → Linear(256→10)`\n",
    "     - Example B: `Linear(784→256) → BatchNorm1D → ReLU → Dropout(p=0.2) → Linear(256→10)`\n",
    "     - Example C (deeper): `784→512→BatchNorm→ReLU→Dropout→256→BatchNorm→ReLU→Dropout→10`\n",
    "   - Try **2–3 architectures**. Log train/val loss & accuracy per epoch.\n",
    "\n",
    "2. **Training Loop (manual updates, no optimizers yet)**\n",
    "   - Forward → Loss (CrossEntropyFromLogits) → Backward (matrix form) → `net.backward(dZ)` → `net.update(lr)`.\n",
    "   - Validation after each epoch (no grads, no updates).\n",
    "   - Record to `history = {\"train_loss\",\"train_acc\",\"val_loss\",\"val_acc\"}`.\n",
    "   - Plots: per-batch loss; per-epoch loss/accuracy (train vs. val).\n",
    "\n",
    "3. **Regularization & Stabilization**\n",
    "   - **Dropout:** compare `p ∈ {0.0, 0.2, 0.5}`.\n",
    "   - **BatchNorm:** place BN **before** ReLU in FC blocks (common practice).\n",
    "   - Optional extras (if time): weight decay (L2), gradient clipping, LR schedule.\n",
    "\n",
    "4. **Packaging Your Framework**\n",
    "   - Create a single file **`minitorch.py`** with all components:\n",
    "     - Layers: `Linear`, `ReLU`, `BatchNorm1D`, `Dropout`\n",
    "     - Loss: `CrossEntropyFromLogits`\n",
    "     - Container: `Net`\n",
    "     - (Optional) utility functions (e.g., accuracy)\n",
    "   - Import it from your notebook and train.\n",
    "\n",
    "---\n",
    "\n",
    "### Deliverables\n",
    "\n",
    "- **Notebook results:**\n",
    "  - Table or brief summary of architectures tried, best val accuracy, and comments.\n",
    "  - Training curves (loss & accuracy) showing the effect of BN/Dropout.\n",
    "- **`minitorch.py`** file with clean docstrings and minimal dependencies.\n",
    "\n",
    "---\n",
    "\n",
    "### Suggested Evaluation Protocol\n",
    "\n",
    "- Use the same **train/val split** across runs (fix a seed).\n",
    "- Train for **~5–10 epochs** (enough to see trends).\n",
    "- Report **best validation accuracy** and final **test accuracy** for your top model.\n",
    "- Briefly explain **what helped** (BN, Dropout, depth) and **why**.\n",
    "\n",
    "---\n",
    "\n",
    "### Checklist / TODOs\n",
    "\n",
    "- [ ] Implement **forward** and **backward** in `Linear`, `ReLU`, `BatchNorm1D`, `Dropout`.\n",
    "- [ ] Implement **CrossEntropyFromLogits** with vectorized gradient \\(dZ = A - Y\\).\n",
    "- [ ] Write training loop with **manual parameter updates** (`net.update(lr)`).\n",
    "- [ ] Add **BatchNorm** and **Dropout** in your architectures and compare.\n",
    "- [ ] Track and plot **history** for train/val.\n",
    "- [ ] Save best model metrics and briefly **analyze results**.\n",
    "- [ ] Package everything into **`minitorch.py`** and re-run using imports.\n",
    "\n",
    "---\n",
    "\n",
    "### Example `minitorch.py` Skeleton (fill in your implementations)\n",
    "\n",
    "```python\n",
    "# minitorch.py\n",
    "import torch\n",
    "\n",
    "class Net:\n",
    "    def __init__(self): self.layers=[]; self.training=True\n",
    "    def add(self, layer): self.layers.append(layer)\n",
    "    def train(self): self.training=True; [getattr(l,'train',lambda:None)() for l in self.layers]; return self\n",
    "    def eval(self):  self.training=False;[getattr(l,'eval', lambda:None)() for l in self.layers]; return self\n",
    "    def forward(self, X):\n",
    "        for layer in self.layers: X = layer.forward(X)\n",
    "        return X\n",
    "    def backward(self, dZ):\n",
    "        for layer in reversed(self.layers): dZ = layer.backward(dZ)\n",
    "        return dZ\n",
    "    def update(self, lr):\n",
    "        for layer in self.layers:\n",
    "            if hasattr(layer, \"update\"): layer.update(lr)\n",
    "\n",
    "class Linear:\n",
    "    # TODO: init (W,b), forward, backward (avg grads), update, parameters (optional)\n",
    "    ...\n",
    "\n",
    "class ReLU:\n",
    "    # TODO: forward (max(0,z)), backward (mask), update (pass)\n",
    "    ...\n",
    "\n",
    "class BatchNorm1D:\n",
    "    # TODO: forward (train/infer paths, EMA), backward (γ, β, dX), update\n",
    "    ...\n",
    "\n",
    "class Dropout:\n",
    "    # TODO: forward (inverted dropout), backward (mask), update (pass)\n",
    "    ...\n",
    "\n",
    "class CrossEntropyFromLogits:\n",
    "    # TODO: forward (softmax/log-softmax + NLL), backward (A - one_hot(Y))\n",
    "    ...\n"
   ]
  }
 ],
 "metadata": {
  "accelerator": "GPU",
  "colab": {
   "authorship_tag": "ABX9TyOF7b9okUGKeOvqnSDoagLe",
   "gpuType": "T4",
   "provenance": []
  },
  "kernelspec": {
   "display_name": "Python 3",
   "name": "python3"
  },
  "language_info": {
   "name": "python"
  }
 },
 "nbformat": 4,
 "nbformat_minor": 0
}
